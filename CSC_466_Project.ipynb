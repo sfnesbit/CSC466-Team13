{
  "nbformat": 4,
  "nbformat_minor": 0,
  "metadata": {
    "colab": {
      "name": "CSC 466 Project.ipynb",
      "provenance": [],
      "collapsed_sections": [
        "yXbAyVCU8o-K",
        "ciV2vsVCWZjP",
        "YE9VvxWxJ0pj",
        "inrl6WIjJkad",
        "Ycu8fZJHLWHz",
        "wvJx9jHau7oq",
        "MRz7b5LsaHaF",
        "bMQj7G21hMX8",
        "IkP9YgWIGtUl",
        "9Pkl1V1aHd7f",
        "dHH-mup7H5-W",
        "Qq3HkqlVJd5_",
        "OfqwjvljJDhB",
        "LHD4GKydhQ-y",
        "T5m2JInLhEM1",
        "C6gN03ePhIWb",
        "Dyhkrl-xvBQo"
      ],
      "include_colab_link": true
    },
    "kernelspec": {
      "name": "python3",
      "display_name": "Python 3"
    },
    "language_info": {
      "name": "python"
    },
    "accelerator": "GPU",
    "widgets": {
      "application/vnd.jupyter.widget-state+json": {
        "ddb0be00470e43de8f2e72e005f117b5": {
          "model_module": "@jupyter-widgets/controls",
          "model_name": "IntProgressModel",
          "state": {
            "_view_name": "ProgressView",
            "style": "IPY_MODEL_4f263d0290d74435b3df03d36cb5cd45",
            "_dom_classes": [],
            "description": "",
            "_model_name": "IntProgressModel",
            "bar_style": "",
            "max": 20,
            "_view_module": "@jupyter-widgets/controls",
            "_model_module_version": "1.5.0",
            "value": 20,
            "_view_count": null,
            "_view_module_version": "1.5.0",
            "orientation": "horizontal",
            "min": 0,
            "description_tooltip": null,
            "_model_module": "@jupyter-widgets/controls",
            "layout": "IPY_MODEL_41ab5397e23c42f9afb6b466f4898020"
          }
        },
        "4f263d0290d74435b3df03d36cb5cd45": {
          "model_module": "@jupyter-widgets/controls",
          "model_name": "ProgressStyleModel",
          "state": {
            "_view_name": "StyleView",
            "_model_name": "ProgressStyleModel",
            "description_width": "",
            "_view_module": "@jupyter-widgets/base",
            "_model_module_version": "1.5.0",
            "_view_count": null,
            "_view_module_version": "1.2.0",
            "bar_color": null,
            "_model_module": "@jupyter-widgets/controls"
          }
        },
        "41ab5397e23c42f9afb6b466f4898020": {
          "model_module": "@jupyter-widgets/base",
          "model_name": "LayoutModel",
          "state": {
            "_view_name": "LayoutView",
            "grid_template_rows": null,
            "right": null,
            "justify_content": null,
            "_view_module": "@jupyter-widgets/base",
            "overflow": null,
            "_model_module_version": "1.2.0",
            "_view_count": null,
            "flex_flow": null,
            "width": null,
            "min_width": null,
            "border": null,
            "align_items": null,
            "bottom": null,
            "_model_module": "@jupyter-widgets/base",
            "top": null,
            "grid_column": null,
            "overflow_y": null,
            "overflow_x": null,
            "grid_auto_flow": null,
            "grid_area": null,
            "grid_template_columns": null,
            "flex": null,
            "_model_name": "LayoutModel",
            "justify_items": null,
            "grid_row": null,
            "max_height": null,
            "align_content": null,
            "visibility": null,
            "align_self": null,
            "height": null,
            "min_height": null,
            "padding": null,
            "grid_auto_rows": null,
            "grid_gap": null,
            "max_width": null,
            "order": null,
            "_view_module_version": "1.2.0",
            "grid_template_areas": null,
            "object_position": null,
            "object_fit": null,
            "grid_auto_columns": null,
            "margin": null,
            "display": null,
            "left": null
          }
        }
      }
    }
  },
  "cells": [
    {
      "cell_type": "markdown",
      "metadata": {
        "id": "view-in-github",
        "colab_type": "text"
      },
      "source": [
        "<a href=\"https://colab.research.google.com/github/sfnesbit/CSC466-Team13/blob/main/CSC_466_Project.ipynb\" target=\"_parent\"><img src=\"https://colab.research.google.com/assets/colab-badge.svg\" alt=\"Open In Colab\"/></a>"
      ]
    },
    {
      "cell_type": "markdown",
      "metadata": {
        "id": "yB7RM2Et89Qc"
      },
      "source": [
        "# 466 Team 13 Food Image Classification\n",
        "Ty Farris | Marine Cossoul | Sean Nesbit\n",
        "\n",
        "[Multiclass image classification article](https://towardsdatascience.com/end-to-end-pipeline-for-setting-up-multiclass-image-classification-for-data-scientists-2e051081d41c)\n",
        "\n",
        "[Also](https://medium.com/swlh/convolutional-neural-networks-for-multiclass-image-classification-a-beginners-guide-to-6dbc09fabbd)"
      ]
    },
    {
      "cell_type": "markdown",
      "metadata": {
        "id": "yXbAyVCU8o-K"
      },
      "source": [
        "##  Mount drive\n",
        "*You may need to visit CSC466 folder, and 'Add Shortcut to Drive' or 'Move To > My Drive\"*"
      ]
    },
    {
      "cell_type": "code",
      "metadata": {
        "id": "QnsPwlnc6YNK",
        "colab": {
          "base_uri": "https://localhost:8080/"
        },
        "outputId": "6d06cd74-564c-4b0c-d15c-0a367d2fa32d"
      },
      "source": [
        "from google.colab import drive\n",
        "drive.mount('/content/drive', force_remount=True)\n",
        "datadir = \"drive/MyDrive/CSC466/csc466_data/\"\n",
        "testdir = datadir+'images_test/'\n",
        "traindir = datadir+'images_train/'"
      ],
      "execution_count": 2,
      "outputs": [
        {
          "output_type": "stream",
          "text": [
            "Mounted at /content/drive\n"
          ],
          "name": "stdout"
        }
      ]
    },
    {
      "cell_type": "code",
      "metadata": {
        "id": "SIbEf0f5m9ds",
        "colab": {
          "base_uri": "https://localhost:8080/"
        },
        "outputId": "e2b7e2d0-1c70-4a95-946b-060e25578470"
      },
      "source": [
        "#Test that you can see into the directory\n",
        "!ls drive/MyDrive/CSC466/csc466_data"
      ],
      "execution_count": null,
      "outputs": [
        {
          "output_type": "stream",
          "text": [
            "datagenerator\t\t grayscale_model_40epochs.h5  images_npy    meta\n",
            "first_model_40epochs.h5  grayscale_model_60epochs.h5  images_test   X.txt\n",
            "first_model.h5\t\t grayscale_model_80epochs.h5  images_train  y.txt\n"
          ],
          "name": "stdout"
        }
      ]
    },
    {
      "cell_type": "markdown",
      "metadata": {
        "id": "ciV2vsVCWZjP"
      },
      "source": [
        "# OLD ATTEMPT: Create train and test datasets\n",
        "These code cells are from our previous attempts when we would build a numpy file in our drive which would hold the preprocessed data.\n",
        "\n",
        "This is no longer used in our final result, but is left for viewing."
      ]
    },
    {
      "cell_type": "markdown",
      "metadata": {
        "id": "YE9VvxWxJ0pj"
      },
      "source": [
        "### Create Training .npy files\n",
        "Preprocess the images and build .npy files for each class found"
      ]
    },
    {
      "cell_type": "code",
      "metadata": {
        "id": "M_8Uq8djPzKN"
      },
      "source": [
        "import os\n",
        "import numpy as np\n",
        "from ipywidgets import IntProgress\n",
        "from IPython.display import display\n",
        "import cv2 as cv\n",
        "from matplotlib import pyplot as plt\n",
        "\n",
        "image_train_path = datadir+\"images_train\"\n",
        "x_train = []\n",
        "y_train = []\n",
        "\n",
        "dirsRead = 0\n",
        "totalFilesFound = 0\n",
        "numClasses = 20\n",
        "\n",
        "#list all the directories\n",
        "directories=[d for d in os.listdir(image_train_path) if os.path.isdir(image_train_path+'/'+d)]\n",
        "\n",
        "#iterate over each directory, preprocess each file and save into class.npy file\n",
        "for dir in directories:\n",
        "  dirsRead += 1\n",
        "  filesRead = 0\n",
        "  print(\"directory: {} | {}\".format(dirsRead, dir))\n",
        "  f = IntProgress(min=0, max=1000) # instantiate the bar\n",
        "  display(f) # display the bar\n",
        "\n",
        "  if dirsRead > numClasses: #collect only n classes\n",
        "    break\n",
        "\n",
        "  dir_path = image_train_path + \"/\" + dir\n",
        "  for file in os.listdir(dir_path):\n",
        "    f.value += 1 # signal to increment the progress bar\n",
        "    filesRead += 1\n",
        "    #read in the image\n",
        "    imagePath = image_train_path + \"/\" + dir + \"/\" + file\n",
        "    image = cv.imread(imagePath)\n",
        "\n",
        "    #resize the image to 128x128\n",
        "    image = cv.resize(image, (128, 128)) \n",
        "\n",
        "    #add the image and corresponding label to x_train and y_train\n",
        "    x_train.append(image)\n",
        "    y_train.append(dir)\n",
        "    totalFilesFound += 1\n",
        "\n",
        "  #save results to a file\n",
        "  x_train = np.array(x_train, dtype=\"float\") / 255.0\n",
        "  np.save(datadir+'images_npy' + f\"/x_{dir}.npy\", x_train)\n",
        "  y_train = np.array(y_train)\n",
        "  np.save(datadir+'images_npy' + f\"/y_{dir}.npy\", y_train)\n",
        "  print(f'Writing file: {dir} | Found {filesRead} images, {len(x_train)} elements')\n",
        "  #reset arrays\n",
        "  filesRead = 0\n",
        "  x_train = []\n",
        "  y_train = []\n",
        "\n"
      ],
      "execution_count": null,
      "outputs": []
    },
    {
      "cell_type": "markdown",
      "metadata": {
        "id": "inrl6WIjJkad"
      },
      "source": [
        "# OLD ATTEMPT: Load Train/Test data from saved .npy files\n",
        "Read each numpy file into *x* and *y* variable to be shuffled and split in subsequent cells "
      ]
    },
    {
      "cell_type": "markdown",
      "metadata": {
        "id": "Ycu8fZJHLWHz"
      },
      "source": [
        "## Load x,y into RAM"
      ]
    },
    {
      "cell_type": "code",
      "metadata": {
        "id": "FTZ87LLjJyHo",
        "colab": {
          "base_uri": "https://localhost:8080/",
          "height": 66,
          "referenced_widgets": [
            "ddb0be00470e43de8f2e72e005f117b5",
            "4f263d0290d74435b3df03d36cb5cd45",
            "41ab5397e23c42f9afb6b466f4898020"
          ]
        },
        "outputId": "a094cfad-4952-40e8-b898-829ced7772db"
      },
      "source": [
        "import numpy as np\n",
        "import os\n",
        "from ipywidgets import IntProgress\n",
        "from IPython.display import display\n",
        "\n",
        "x,y = None, None\n",
        "count = 1\n",
        "filecount = 0\n",
        "temp = None\n",
        "splitCount = 1000 #images per class to load into RAM\n",
        "numClasses = 10 #how many classes to load into RAM\n",
        "f = IntProgress(min=0, max=numClasses*2) # instantiate the progress bar\n",
        "display(f) # display the bar\n",
        "xCount = 0\n",
        "yCount = 0\n",
        "\n",
        "for file in os.listdir(datadir+'images_npy/'):\n",
        "  f.value += 1\n",
        "  #file is an X_ file (contains image data)\n",
        "  if \"x_\" in file and xCount < numClasses:\n",
        "    xCount = xCount + 1\n",
        "    temp = np.load(datadir+'images_npy/'+file)[:splitCount]\n",
        "    if x is None:\n",
        "      x = temp\n",
        "    else:\n",
        "      x = np.append(x,temp,0)\n",
        "  #file is a Y_ file (contains label)\n",
        "  elif 'y_' in file and yCount < numClasses:\n",
        "    yCount = yCount + 1\n",
        "    temp = np.load(datadir+'images_npy/'+file)[:splitCount]\n",
        "    if y is None:\n",
        "      y = temp\n",
        "    else:\n",
        "      y = np.append(y,temp, 0)\n",
        "print(len(x),len(y))"
      ],
      "execution_count": null,
      "outputs": [
        {
          "output_type": "display_data",
          "data": {
            "application/vnd.jupyter.widget-view+json": {
              "model_id": "ddb0be00470e43de8f2e72e005f117b5",
              "version_minor": 0,
              "version_major": 2
            },
            "text/plain": [
              "IntProgress(value=0, max=20)"
            ]
          },
          "metadata": {
            "tags": []
          }
        },
        {
          "output_type": "stream",
          "text": [
            "10000 10000\n"
          ],
          "name": "stdout"
        }
      ]
    },
    {
      "cell_type": "markdown",
      "metadata": {
        "id": "qkGIHUbfib4D"
      },
      "source": [
        "## Shuffle, Split, One-Hot Encode\n",
        "These cells will shuffle the data then split it into Training / Test / Validation"
      ]
    },
    {
      "cell_type": "code",
      "metadata": {
        "id": "cdyKwdNGLsOa",
        "colab": {
          "base_uri": "https://localhost:8080/"
        },
        "outputId": "60016079-5d80-458e-c725-6cd4b22fc999"
      },
      "source": [
        "from sklearn.utils import shuffle\n",
        "x,y = shuffle(x,y)\n",
        "\n",
        "x_train, y_train, x_test, y_test = [],[],[],[]\n",
        "split = 0.8\n",
        "val_split = 0.9\n",
        "train_test_split_index = int(np.ceil(split*len(x)))\n",
        "test_val_split_index = int(np.ceil(val_split*len(x)))\n",
        "\n",
        "\n",
        "x_train = x[:train_test_split_index]\n",
        "y_train = y[:train_test_split_index]\n",
        "x_test  = x[train_test_split_index:test_val_split_index]\n",
        "y_test  = y[train_test_split_index:test_val_split_index]\n",
        "x_val   = x[test_val_split_index:]\n",
        "y_val   = y[test_val_split_index:]\n",
        "\n",
        "print(f'Train: ({len(x_train)}, {len(y_train)}) | Test: ({len(x_test)}, {len(y_test)}) | Val: ({len(x_val)}),({len(y_val)})')\n"
      ],
      "execution_count": null,
      "outputs": [
        {
          "output_type": "stream",
          "text": [
            "Train: (8000, 8000) | Test: (1000, 1000) | Val: (1000),(1000)\n"
          ],
          "name": "stdout"
        }
      ]
    },
    {
      "cell_type": "markdown",
      "metadata": {
        "id": "MsmMCBhbUqKa"
      },
      "source": [
        "### Create label map for onehot encoding"
      ]
    },
    {
      "cell_type": "code",
      "metadata": {
        "id": "SCXL4D1WMimA",
        "colab": {
          "base_uri": "https://localhost:8080/"
        },
        "outputId": "6ebd40b7-e1b0-4c76-823a-949f4902fa86"
      },
      "source": [
        "ldict = {key: 0 for key in np.unique(y_train)}\n",
        "for item in y_train:\n",
        "  ldict[item] += 1\n",
        "\n",
        "#creates a label mapping\n",
        "labels = list(set(np.unique(y_train)).union(np.unique(y_test)))\n",
        "labels = dict([(image_label.lower().replace(\" \", \"_\"), index) for index, image_label in enumerate(labels)])\n",
        "print(labels)"
      ],
      "execution_count": null,
      "outputs": [
        {
          "output_type": "stream",
          "text": [
            "{'beef_tartare': 0, 'breakfast_burrito': 1, 'bread_pudding': 2, 'apple_pie': 3, 'beet_salad': 4, 'beignets': 5, 'beef_carpaccio': 6, 'baby_back_ribs': 7, 'bibimbap': 8, 'baklava': 9}\n"
          ],
          "name": "stdout"
        }
      ]
    },
    {
      "cell_type": "markdown",
      "metadata": {
        "id": "aLnRGMnuUw_Y"
      },
      "source": [
        "## Onehot encode the values of train/test"
      ]
    },
    {
      "cell_type": "code",
      "metadata": {
        "id": "bcnmwtZsTk51"
      },
      "source": [
        "from keras.utils.np_utils import to_categorical   \n",
        "\n",
        "#one hot encoded label values\n",
        "categorical_labels = to_categorical(np.arange(len(labels)), num_classes=len(labels))\n",
        "categorical_labels\n",
        "\n",
        "y_train2 = []\n",
        "y_test2 = []\n",
        "y_val2 = []\n",
        "for i in range(len(y_train)):\n",
        "  label_index = labels[y_train[i]]\n",
        "  y_train2.append(categorical_labels[label_index])\n",
        "  \n",
        "for i in range(len(y_test)):\n",
        "  label_index = labels[y_test[i]]\n",
        "  y_test2.append(categorical_labels[label_index])\n",
        "  \n",
        "for i in range(len(y_val)):\n",
        "  label_index = labels[y_val[i]]\n",
        "  y_val2.append(categorical_labels[label_index])"
      ],
      "execution_count": null,
      "outputs": []
    },
    {
      "cell_type": "markdown",
      "metadata": {
        "id": "wvJx9jHau7oq"
      },
      "source": [
        "# Build model "
      ]
    },
    {
      "cell_type": "code",
      "metadata": {
        "id": "O_XZ1r4YzkIM",
        "colab": {
          "base_uri": "https://localhost:8080/"
        },
        "outputId": "1c9b01af-a539-4422-aa2b-372a1c0e06a2"
      },
      "source": [
        "import tensorflow as tf\n",
        "tf.keras.backend.clear_session()\n",
        "num_classes = 20\n",
        "\n",
        "cnn = tf.keras.models.Sequential()\n",
        "cnn.add(tf.keras.layers.Conv2D(filters=32, kernel_size=(5,5), activation='relu', input_shape=[img_height, img_width, 3]))\n",
        "cnn.add(tf.keras.layers.Conv2D(filters=32, kernel_size=(5,5), activation='relu'))\n",
        "cnn.add(tf.keras.layers.MaxPool2D(pool_size=2, strides=2))\n",
        "cnn.add(tf.keras.layers.Conv2D(filters=64, kernel_size=(3,3), activation='relu'))\n",
        "cnn.add(tf.keras.layers.Conv2D(filters=64, kernel_size=(3,3), activation='relu'))\n",
        "cnn.add(tf.keras.layers.MaxPool2D(pool_size=2, strides=2))\n",
        "cnn.add(tf.keras.layers.Flatten())\n",
        "cnn.add(tf.keras.layers.Dense(128, activation='relu'))\n",
        "cnn.add(tf.keras.layers.Dense(num_classes, activation='softmax'))\n",
        "\n",
        "cnn.summary()\n",
        "cnn.compile(optimizer='adam', loss=\"categorical_crossentropy\", metrics=[\"accuracy\"])"
      ],
      "execution_count": 16,
      "outputs": [
        {
          "output_type": "stream",
          "text": [
            "Model: \"sequential\"\n",
            "_________________________________________________________________\n",
            "Layer (type)                 Output Shape              Param #   \n",
            "=================================================================\n",
            "conv2d (Conv2D)              (None, 60, 60, 32)        2432      \n",
            "_________________________________________________________________\n",
            "conv2d_1 (Conv2D)            (None, 56, 56, 32)        25632     \n",
            "_________________________________________________________________\n",
            "max_pooling2d (MaxPooling2D) (None, 28, 28, 32)        0         \n",
            "_________________________________________________________________\n",
            "conv2d_2 (Conv2D)            (None, 26, 26, 64)        18496     \n",
            "_________________________________________________________________\n",
            "conv2d_3 (Conv2D)            (None, 24, 24, 64)        36928     \n",
            "_________________________________________________________________\n",
            "max_pooling2d_1 (MaxPooling2 (None, 12, 12, 64)        0         \n",
            "_________________________________________________________________\n",
            "flatten (Flatten)            (None, 9216)              0         \n",
            "_________________________________________________________________\n",
            "dense (Dense)                (None, 128)               1179776   \n",
            "_________________________________________________________________\n",
            "dense_1 (Dense)              (None, 20)                2580      \n",
            "=================================================================\n",
            "Total params: 1,265,844\n",
            "Trainable params: 1,265,844\n",
            "Non-trainable params: 0\n",
            "_________________________________________________________________\n"
          ],
          "name": "stdout"
        }
      ]
    },
    {
      "cell_type": "markdown",
      "metadata": {
        "id": "MRz7b5LsaHaF"
      },
      "source": [
        "# ImageDataGenerator\n"
      ]
    },
    {
      "cell_type": "markdown",
      "metadata": {
        "id": "bMQj7G21hMX8"
      },
      "source": [
        "## Build Data Generators"
      ]
    },
    {
      "cell_type": "markdown",
      "metadata": {
        "id": "IkP9YgWIGtUl"
      },
      "source": [
        "### Standard ImageDataGenerator\n",
        "sheer_range = 0.2\n",
        "\n",
        "zoom_range = 0.2\n",
        "\n",
        "horizontal_flip = True\n",
        "\n",
        "target_size = (128,128)"
      ]
    },
    {
      "cell_type": "code",
      "metadata": {
        "id": "FVxQ7451aBSf",
        "colab": {
          "base_uri": "https://localhost:8080/"
        },
        "outputId": "ea7a4e10-ce50-4b25-b36b-aaf5524c0099"
      },
      "source": [
        "from keras.preprocessing.image import ImageDataGenerator\n",
        "\n",
        "train_data_dir = datadir + \"datagenerator\"\n",
        "img_height = 128\n",
        "img_width = 128\n",
        "batch_size = 32\n",
        "nb_epochs = 40\n",
        "\n",
        "train_datagen_standard = ImageDataGenerator(rescale=1./255,\n",
        "    shear_range=0.2,\n",
        "    zoom_range=0.2,\n",
        "    horizontal_flip=True,\n",
        "    validation_split=0.2) # set validation split\n",
        "\n",
        "train_generator_standard = train_datagen_standard.flow_from_directory(\n",
        "    train_data_dir,\n",
        "    target_size=(img_height, img_width),\n",
        "    batch_size=batch_size,\n",
        "    class_mode='categorical',\n",
        "    subset='training',\n",
        "    shuffle=True) # set as training data\n",
        "\n",
        "validation_generator_standard = train_datagen_standard.flow_from_directory(\n",
        "    train_data_dir, # same directory as training data\n",
        "    target_size=(img_height, img_width),\n",
        "    batch_size=batch_size,\n",
        "    class_mode='categorical',\n",
        "    subset='validation',\n",
        "    shuffle=True) # set as validation data"
      ],
      "execution_count": 4,
      "outputs": [
        {
          "output_type": "stream",
          "text": [
            "Found 16000 images belonging to 20 classes.\n",
            "Found 4000 images belonging to 20 classes.\n"
          ],
          "name": "stdout"
        }
      ]
    },
    {
      "cell_type": "markdown",
      "metadata": {
        "id": "9Pkl1V1aHd7f"
      },
      "source": [
        "### Rotation ImageDataGenerator\n",
        "Standard + \n",
        "\n",
        "rotation_range = 30"
      ]
    },
    {
      "cell_type": "code",
      "metadata": {
        "colab": {
          "base_uri": "https://localhost:8080/"
        },
        "id": "8zXTHJRWHfYZ",
        "outputId": "78d040c8-55ec-4d78-c365-c0e2490d47cd"
      },
      "source": [
        "from keras.preprocessing.image import ImageDataGenerator\n",
        "\n",
        "train_data_dir = datadir + \"datagenerator\"\n",
        "img_height = 128\n",
        "img_width = 128\n",
        "batch_size = 32\n",
        "nb_epochs = 40\n",
        "\n",
        "train_datagen_rotation = ImageDataGenerator(rescale=1./255,\n",
        "    shear_range=0.2,\n",
        "    zoom_range=0.2,\n",
        "    horizontal_flip=True,\n",
        "    rotation_range=30,\n",
        "    validation_split=0.2) # set validation split\n",
        "\n",
        "train_generator_rotation = train_datagen_rotation.flow_from_directory(\n",
        "    train_data_dir,\n",
        "    target_size=(img_height, img_width),\n",
        "    batch_size=batch_size,\n",
        "    class_mode='categorical',\n",
        "    subset='training',\n",
        "    shuffle=True) # set as training data\n",
        "\n",
        "validation_generator_rotation = train_datagen_rotation.flow_from_directory(\n",
        "    train_data_dir, # same directory as training data\n",
        "    target_size=(img_height, img_width),\n",
        "    batch_size=batch_size,\n",
        "    class_mode='categorical',\n",
        "    subset='validation',\n",
        "    shuffle=True) # set as validation data"
      ],
      "execution_count": 5,
      "outputs": [
        {
          "output_type": "stream",
          "text": [
            "Found 16000 images belonging to 20 classes.\n",
            "Found 4000 images belonging to 20 classes.\n"
          ],
          "name": "stdout"
        }
      ]
    },
    {
      "cell_type": "markdown",
      "metadata": {
        "id": "dHH-mup7H5-W"
      },
      "source": [
        "### Grayscale ImageDataGenerator\n",
        "Standard +\n",
        "\n",
        "colo_mode = \"grayscale\"\n",
        "\n",
        "\n"
      ]
    },
    {
      "cell_type": "code",
      "metadata": {
        "colab": {
          "base_uri": "https://localhost:8080/"
        },
        "id": "8avsqsb5HtIu",
        "outputId": "c7dc6262-4860-48b1-8edc-aa4185f726f2"
      },
      "source": [
        "from keras.preprocessing.image import ImageDataGenerator\n",
        "\n",
        "train_data_dir = datadir + \"datagenerator\"\n",
        "img_height = 128\n",
        "img_width = 128\n",
        "batch_size = 32\n",
        "nb_epochs = 40\n",
        "\n",
        "train_datagen_grayscale = ImageDataGenerator(rescale=1./255,\n",
        "    shear_range=0.2,\n",
        "    zoom_range=0.2,\n",
        "    horizontal_flip=True,\n",
        "    validation_split=0.2) # set validation split\n",
        "\n",
        "train_generator_grayscale = train_datagen_grayscale.flow_from_directory(\n",
        "    train_data_dir,\n",
        "    color_mode=\"grayscale\",\n",
        "    target_size=(img_height, img_width),\n",
        "    batch_size=batch_size,\n",
        "    class_mode='categorical',\n",
        "    subset='training',\n",
        "    shuffle=True) # set as training data\n",
        "\n",
        "validation_generator_grayscale = train_datagen_grayscale.flow_from_directory(\n",
        "    train_data_dir, # same directory as training data\n",
        "    color_mode=\"grayscale\",\n",
        "    target_size=(img_height, img_width),\n",
        "    batch_size=batch_size,\n",
        "    class_mode='categorical',\n",
        "    subset='validation',\n",
        "    shuffle=True) # set as validation data"
      ],
      "execution_count": 9,
      "outputs": [
        {
          "output_type": "stream",
          "text": [
            "Found 16000 images belonging to 20 classes.\n",
            "Found 4000 images belonging to 20 classes.\n"
          ],
          "name": "stdout"
        }
      ]
    },
    {
      "cell_type": "markdown",
      "metadata": {
        "id": "Qq3HkqlVJd5_"
      },
      "source": [
        "### Brightness ImageDataGenerator\n",
        "Standard + \n",
        "\n",
        "brightness_range = [0.4,1.5]"
      ]
    },
    {
      "cell_type": "code",
      "metadata": {
        "colab": {
          "base_uri": "https://localhost:8080/"
        },
        "id": "QLkKqcwsJ4V6",
        "outputId": "b67b8a50-610d-4fec-d470-5e38b514c678"
      },
      "source": [
        "from keras.preprocessing.image import ImageDataGenerator\n",
        "\n",
        "train_data_dir = datadir + \"datagenerator\"\n",
        "img_height = 128\n",
        "img_width = 128\n",
        "batch_size = 32\n",
        "nb_epochs = 40\n",
        "\n",
        "train_datagen_brightness = ImageDataGenerator(rescale=1./255,\n",
        "    shear_range=0.2,\n",
        "    zoom_range=0.2,\n",
        "    horizontal_flip=True,\n",
        "    brightness_range=[0.4,1.5],\n",
        "    validation_split=0.2) # set validation split\n",
        "\n",
        "train_generator_brightness = train_datagen_brightness.flow_from_directory(\n",
        "    train_data_dir,\n",
        "    target_size=(img_height, img_width),\n",
        "    batch_size=batch_size,\n",
        "    class_mode='categorical',\n",
        "    subset='training',\n",
        "    shuffle=True) # set as training data\n",
        "\n",
        "validation_generator_brightness = train_datagen_brightness.flow_from_directory(\n",
        "    train_data_dir, # same directory as training data\n",
        "    target_size=(img_height, img_width),\n",
        "    batch_size=batch_size,\n",
        "    class_mode='categorical',\n",
        "    subset='validation',\n",
        "    shuffle=True) # set as validation data"
      ],
      "execution_count": 11,
      "outputs": [
        {
          "output_type": "stream",
          "text": [
            "Found 16000 images belonging to 20 classes.\n",
            "Found 4000 images belonging to 20 classes.\n"
          ],
          "name": "stdout"
        }
      ]
    },
    {
      "cell_type": "markdown",
      "metadata": {
        "id": "OfqwjvljJDhB"
      },
      "source": [
        "### 64x64 ImageDataGenerator\n",
        "Standard + \n",
        "\n",
        "target_size = (64,64)"
      ]
    },
    {
      "cell_type": "code",
      "metadata": {
        "colab": {
          "base_uri": "https://localhost:8080/"
        },
        "id": "PrxD1L43JPjG",
        "outputId": "ff2b0da8-2caf-40bb-b686-d319f9f4546c"
      },
      "source": [
        "from keras.preprocessing.image import ImageDataGenerator\n",
        "\n",
        "train_data_dir = datadir + \"datagenerator\"\n",
        "img_height = 64\n",
        "img_width = 64\n",
        "batch_size = 32\n",
        "nb_epochs = 40\n",
        "\n",
        "train_datagen_64x64 = ImageDataGenerator(rescale=1./255,\n",
        "    shear_range=0.2,\n",
        "    zoom_range=0.2,\n",
        "    horizontal_flip=True,\n",
        "    validation_split=0.2) # set validation split\n",
        "\n",
        "train_generator_64x64 = train_datagen_64x64.flow_from_directory(\n",
        "    train_data_dir,\n",
        "    target_size=(64, 64),\n",
        "    batch_size=batch_size,\n",
        "    class_mode='categorical',\n",
        "    subset='training',\n",
        "    shuffle=True) # set as training data\n",
        "\n",
        "validation_generator_64x64 = train_datagen_64x64.flow_from_directory(\n",
        "    train_data_dir, # same directory as training data\n",
        "    target_size=(64, 64),\n",
        "    batch_size=batch_size,\n",
        "    class_mode='categorical',\n",
        "    subset='validation',\n",
        "    shuffle=True) # set as validation data"
      ],
      "execution_count": 13,
      "outputs": [
        {
          "output_type": "stream",
          "text": [
            "Found 16000 images belonging to 20 classes.\n",
            "Found 4000 images belonging to 20 classes.\n"
          ],
          "name": "stdout"
        }
      ]
    },
    {
      "cell_type": "markdown",
      "metadata": {
        "id": "LHD4GKydhQ-y"
      },
      "source": [
        "## Fit the model with ImageDataGenerator\n",
        "Make sure to et ```train_generator``` and ```validation_generator``` to an appropriate generator built above"
      ]
    },
    {
      "cell_type": "code",
      "metadata": {
        "id": "XBECHhzefWwf"
      },
      "source": [
        "nb_steps = 100\n",
        "# set generators\n",
        "train_generator = train_generator_standard\n",
        "validation_generator = validation_generator_standard\n",
        "#fit\n",
        "history = cnn.fit(\n",
        "          train_generator,\n",
        "          steps_per_epoch = nb_steps,\n",
        "          #steps_per_epoch = train_generator.samples // batch_size,\n",
        "          validation_data = validation_generator, \n",
        "          #validation_steps = validation_generator.samples // batch_size,\n",
        "          validation_steps = nb_steps,\n",
        "          epochs = nb_epochs,\n",
        "          verbose = 1)"
      ],
      "execution_count": null,
      "outputs": []
    },
    {
      "cell_type": "markdown",
      "metadata": {
        "id": "T5m2JInLhEM1"
      },
      "source": [
        "# Save Model"
      ]
    },
    {
      "cell_type": "code",
      "metadata": {
        "id": "9arYVMQ4nALR"
      },
      "source": [
        "cnn.save_weights(datadir + \"model_40epochs_64x64images.h5\")"
      ],
      "execution_count": null,
      "outputs": []
    },
    {
      "cell_type": "markdown",
      "metadata": {
        "id": "C6gN03ePhIWb"
      },
      "source": [
        "# Load Model"
      ]
    },
    {
      "cell_type": "code",
      "metadata": {
        "id": "w_Khh0z1COwI"
      },
      "source": [
        "cnn.load_weights(datadir + \"model_40epochs_64x64images.h5\")"
      ],
      "execution_count": null,
      "outputs": []
    },
    {
      "cell_type": "markdown",
      "metadata": {
        "id": "Dyhkrl-xvBQo"
      },
      "source": [
        "# Evaluate model"
      ]
    },
    {
      "cell_type": "code",
      "metadata": {
        "id": "HUb_Hz3xvEhp",
        "colab": {
          "base_uri": "https://localhost:8080/",
          "height": 53
        },
        "outputId": "fb80c274-9dbf-4227-e57c-31616a6efdce"
      },
      "source": [
        "import matplotlib.pyplot as plt\n",
        "plt.plot(history.history['accuracy'])\n",
        "plt.plot(history.history['val_accuracy'])\n",
        "plt.xlabel('epoch')\n",
        "plt.ylabel('accuracy')\n",
        "plt.title('accuracy over time')\n",
        "plt.legend(['train','val'])\n",
        "plt.show()"
      ],
      "execution_count": null,
      "outputs": [
        {
          "output_type": "display_data",
          "data": {
            "image/png": "[encoded data removed]",
            "text/plain": [
              "<Figure size 432x288 with 1 Axes>"
            ]
          },
          "metadata": {
            "tags": [],
            "needs_background": "light"
          }
        }
      ]
    }
  ]
}
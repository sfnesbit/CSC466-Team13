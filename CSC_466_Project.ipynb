{
  "nbformat": 4,
  "nbformat_minor": 0,
  "metadata": {
    "colab": {
      "name": "CSC 466 Project.ipynb",
      "provenance": [],
      "collapsed_sections": [
        "YE9VvxWxJ0pj",
        "inrl6WIjJkad",
        "qkGIHUbfib4D"
      ],
      "include_colab_link": true
    },
    "kernelspec": {
      "name": "python3",
      "display_name": "Python 3"
    },
    "language_info": {
      "name": "python"
    },
    "accelerator": "GPU",
    "widgets": {
      "application/vnd.jupyter.widget-state+json": {
        "ddb0be00470e43de8f2e72e005f117b5": {
          "model_module": "@jupyter-widgets/controls",
          "model_name": "IntProgressModel",
          "state": {
            "_view_name": "ProgressView",
            "style": "IPY_MODEL_4f263d0290d74435b3df03d36cb5cd45",
            "_dom_classes": [],
            "description": "",
            "_model_name": "IntProgressModel",
            "bar_style": "",
            "max": 20,
            "_view_module": "@jupyter-widgets/controls",
            "_model_module_version": "1.5.0",
            "value": 20,
            "_view_count": null,
            "_view_module_version": "1.5.0",
            "orientation": "horizontal",
            "min": 0,
            "description_tooltip": null,
            "_model_module": "@jupyter-widgets/controls",
            "layout": "IPY_MODEL_41ab5397e23c42f9afb6b466f4898020"
          }
        },
        "4f263d0290d74435b3df03d36cb5cd45": {
          "model_module": "@jupyter-widgets/controls",
          "model_name": "ProgressStyleModel",
          "state": {
            "_view_name": "StyleView",
            "_model_name": "ProgressStyleModel",
            "description_width": "",
            "_view_module": "@jupyter-widgets/base",
            "_model_module_version": "1.5.0",
            "_view_count": null,
            "_view_module_version": "1.2.0",
            "bar_color": null,
            "_model_module": "@jupyter-widgets/controls"
          }
        },
        "41ab5397e23c42f9afb6b466f4898020": {
          "model_module": "@jupyter-widgets/base",
          "model_name": "LayoutModel",
          "state": {
            "_view_name": "LayoutView",
            "grid_template_rows": null,
            "right": null,
            "justify_content": null,
            "_view_module": "@jupyter-widgets/base",
            "overflow": null,
            "_model_module_version": "1.2.0",
            "_view_count": null,
            "flex_flow": null,
            "width": null,
            "min_width": null,
            "border": null,
            "align_items": null,
            "bottom": null,
            "_model_module": "@jupyter-widgets/base",
            "top": null,
            "grid_column": null,
            "overflow_y": null,
            "overflow_x": null,
            "grid_auto_flow": null,
            "grid_area": null,
            "grid_template_columns": null,
            "flex": null,
            "_model_name": "LayoutModel",
            "justify_items": null,
            "grid_row": null,
            "max_height": null,
            "align_content": null,
            "visibility": null,
            "align_self": null,
            "height": null,
            "min_height": null,
            "padding": null,
            "grid_auto_rows": null,
            "grid_gap": null,
            "max_width": null,
            "order": null,
            "_view_module_version": "1.2.0",
            "grid_template_areas": null,
            "object_position": null,
            "object_fit": null,
            "grid_auto_columns": null,
            "margin": null,
            "display": null,
            "left": null
          }
        }
      }
    }
  },
  "cells": [
    {
      "cell_type": "markdown",
      "metadata": {
        "id": "view-in-github",
        "colab_type": "text"
      },
      "source": [
        "<a href=\"https://colab.research.google.com/github/sfnesbit/CSC466-Team13/blob/main/CSC_466_Project.ipynb\" target=\"_parent\"><img src=\"https://colab.research.google.com/assets/colab-badge.svg\" alt=\"Open In Colab\"/></a>"
      ]
    },
    {
      "cell_type": "markdown",
      "metadata": {
        "id": "yB7RM2Et89Qc"
      },
      "source": [
        "# 466 Team 13 Food Image Classification\n",
        "Ty Farris | Marine Cossoul | Sean Nesbit\n",
        "\n",
        "[Multiclass image classification article](https://towardsdatascience.com/end-to-end-pipeline-for-setting-up-multiclass-image-classification-for-data-scientists-2e051081d41c)\n",
        "\n",
        "[Also](https://medium.com/swlh/convolutional-neural-networks-for-multiclass-image-classification-a-beginners-guide-to-6dbc09fabbd)"
      ]
    },
    {
      "cell_type": "markdown",
      "metadata": {
        "id": "yXbAyVCU8o-K"
      },
      "source": [
        "##  Mount drive\n",
        "*You may need to visit CSC466 folder, and 'Add Shortcut to Drive' or 'Move To > My Drive\"*"
      ]
    },
    {
      "cell_type": "code",
      "metadata": {
        "id": "QnsPwlnc6YNK",
        "colab": {
          "base_uri": "https://localhost:8080/"
        },
        "outputId": "aadc4103-12ac-4de4-b810-a23e27ef26b2"
      },
      "source": [
        "from google.colab import drive\n",
        "drive.mount('/content/drive', force_remount=True)\n",
        "datadir = \"drive/MyDrive/CSC466/csc466_data/\"\n",
        "testdir = datadir+'images_test/'\n",
        "traindir = datadir+'images_train/'"
      ],
      "execution_count": 1,
      "outputs": [
        {
          "output_type": "stream",
          "text": [
            "Mounted at /content/drive\n"
          ],
          "name": "stdout"
        }
      ]
    },
    {
      "cell_type": "code",
      "metadata": {
        "id": "SIbEf0f5m9ds",
        "colab": {
          "base_uri": "https://localhost:8080/"
        },
        "outputId": "48725c85-9261-44f8-8fbb-e99bb2fc3964"
      },
      "source": [
        "!ls drive/MyDrive/CSC466/csc466_data"
      ],
      "execution_count": 2,
      "outputs": [
        {
          "output_type": "stream",
          "text": [
            "food_c101_n1000_r384x384x3.h5\t    food_test_c101_n1000_r64x64x1.h5\n",
            "food_c101_n10099_r32x32x1.h5\t    food_test_c101_n1000_r64x64x3.h5\n",
            "food_c101_n10099_r32x32x3.h5\t    images_npy\n",
            "food_c101_n10099_r64x64x1.h5\t    images_test\n",
            "food_c101_n10099_r64x64x3.h5\t    images_train\n",
            "food_test_c101_n1000_r128x128x1.h5  meta\n",
            "food_test_c101_n1000_r128x128x3.h5  X.txt\n",
            "food_test_c101_n1000_r32x32x1.h5    y.txt\n",
            "food_test_c101_n1000_r32x32x3.h5\n"
          ],
          "name": "stdout"
        }
      ]
    },
    {
      "cell_type": "markdown",
      "metadata": {
        "id": "ciV2vsVCWZjP"
      },
      "source": [
        "#  Create train and test datasets"
      ]
    },
    {
      "cell_type": "markdown",
      "metadata": {
        "id": "YE9VvxWxJ0pj"
      },
      "source": [
        "### Create Training .npy files"
      ]
    },
    {
      "cell_type": "code",
      "metadata": {
        "id": "M_8Uq8djPzKN"
      },
      "source": [
        "import os\n",
        "import numpy as np\n",
        "from ipywidgets import IntProgress\n",
        "from IPython.display import display\n",
        "import cv2 as cv\n",
        "from matplotlib import pyplot as plt\n",
        "\n",
        "image_train_path = datadir+\"images_train\"\n",
        "x_train = []\n",
        "y_train = []\n",
        "\n",
        "dirsRead = 0\n",
        "totalFilesFound = 0\n",
        "numClasses = 20\n",
        "\n",
        "directories=[d for d in os.listdir(image_train_path) if os.path.isdir(image_train_path+'/'+d)]\n",
        "\n",
        "for dir in directories:\n",
        "  dirsRead += 1\n",
        "  filesRead = 0\n",
        "  print(\"directory: {} | {}\".format(dirsRead, dir))\n",
        "  f = IntProgress(min=0, max=1000) # instantiate the bar\n",
        "  display(f) # display the bar\n",
        "\n",
        "  if dirsRead > numClasses: #collect only n classes\n",
        "    break\n",
        "\n",
        "  dir_path = image_train_path + \"/\" + dir\n",
        "  for file in os.listdir(dir_path):\n",
        "    f.value += 1 # signal to increment the progress bar\n",
        "    filesRead += 1\n",
        "    #read in the image\n",
        "    imagePath = image_train_path + \"/\" + dir + \"/\" + file\n",
        "    image = cv.imread(imagePath)\n",
        "\n",
        "    #resize the image to 128x128\n",
        "    image = cv.resize(image, (128, 128)) \n",
        "\n",
        "    #add the image and corresponding label to x_train and y_train\n",
        "    x_train.append(image)\n",
        "    y_train.append(dir)\n",
        "    totalFilesFound += 1\n",
        "\n",
        "  #save results to a file\n",
        "  x_train = np.array(x_train, dtype=\"float\") / 255.0\n",
        "  np.save(datadir+'images_npy' + f\"/x_{dir}.npy\", x_train)\n",
        "  y_train = np.array(y_train)\n",
        "  np.save(datadir+'images_npy' + f\"/y_{dir}.npy\", y_train)\n",
        "  print(f'Writing file: {dir} | Found {filesRead} images, {len(x_train)} elements')\n",
        "  #reset arrays\n",
        "  filesRead = 0\n",
        "  x_train = []\n",
        "  y_train = []\n",
        "\n"
      ],
      "execution_count": null,
      "outputs": []
    },
    {
      "cell_type": "markdown",
      "metadata": {
        "id": "inrl6WIjJkad"
      },
      "source": [
        "# Load Train/Test data from saved .npy files"
      ]
    },
    {
      "cell_type": "code",
      "metadata": {
        "id": "FTZ87LLjJyHo",
        "colab": {
          "base_uri": "https://localhost:8080/",
          "height": 0,
          "referenced_widgets": [
            "ddb0be00470e43de8f2e72e005f117b5",
            "4f263d0290d74435b3df03d36cb5cd45",
            "41ab5397e23c42f9afb6b466f4898020"
          ]
        },
        "outputId": "a094cfad-4952-40e8-b898-829ced7772db"
      },
      "source": [
        "import numpy as np\n",
        "import os\n",
        "from ipywidgets import IntProgress\n",
        "from IPython.display import display\n",
        "\n",
        "x,y = None, None\n",
        "count = 1\n",
        "filecount = 0\n",
        "temp = None\n",
        "splitCount = 1000\n",
        "numClasses = 10\n",
        "f = IntProgress(min=0, max=numClasses*2) # instantiate the bar\n",
        "display(f) # display the bar\n",
        "xCount = 0\n",
        "yCount = 0\n",
        "for file in os.listdir(datadir+'images_npy/'):\n",
        "  f.value += 1\n",
        "  if \"x_\" in file and xCount < numClasses:\n",
        "    xCount = xCount + 1\n",
        "    temp = np.load(datadir+'images_npy/'+file)[:splitCount]\n",
        "    if x is None:\n",
        "      x = temp\n",
        "    else:\n",
        "      x = np.append(x,temp,0)\n",
        "    \n",
        "  elif 'y_' in file and yCount < numClasses:\n",
        "    yCount = yCount + 1\n",
        "    temp = np.load(datadir+'images_npy/'+file)[:splitCount]\n",
        "    if y is None:\n",
        "      y = temp\n",
        "    else:\n",
        "      y = np.append(y,temp, 0)\n",
        "print(len(x),len(y))"
      ],
      "execution_count": 4,
      "outputs": [
        {
          "output_type": "display_data",
          "data": {
            "application/vnd.jupyter.widget-view+json": {
              "model_id": "ddb0be00470e43de8f2e72e005f117b5",
              "version_minor": 0,
              "version_major": 2
            },
            "text/plain": [
              "IntProgress(value=0, max=20)"
            ]
          },
          "metadata": {
            "tags": []
          }
        },
        {
          "output_type": "stream",
          "text": [
            "10000 10000\n"
          ],
          "name": "stdout"
        }
      ]
    },
    {
      "cell_type": "markdown",
      "metadata": {
        "id": "qkGIHUbfib4D"
      },
      "source": [
        "## Shuffle and split into train/test"
      ]
    },
    {
      "cell_type": "code",
      "metadata": {
        "id": "cdyKwdNGLsOa",
        "colab": {
          "base_uri": "https://localhost:8080/"
        },
        "outputId": "60016079-5d80-458e-c725-6cd4b22fc999"
      },
      "source": [
        "from sklearn.utils import shuffle\n",
        "x,y = shuffle(x,y)\n",
        "\n",
        "x_train, y_train, x_test, y_test = [],[],[],[]\n",
        "split = 0.8\n",
        "val_split = 0.9\n",
        "train_test_split_index = int(np.ceil(split*len(x)))\n",
        "test_val_split_index = int(np.ceil(val_split*len(x)))\n",
        "\n",
        "\n",
        "x_train = x[:train_test_split_index]\n",
        "y_train = y[:train_test_split_index]\n",
        "x_test  = x[train_test_split_index:test_val_split_index]\n",
        "y_test  = y[train_test_split_index:test_val_split_index]\n",
        "x_val   = x[test_val_split_index:]\n",
        "y_val   = y[test_val_split_index:]\n",
        "\n",
        "print(f'Train: ({len(x_train)}, {len(y_train)}) | Test: ({len(x_test)}, {len(y_test)}) | Val: ({len(x_val)}),({len(y_val)})')\n"
      ],
      "execution_count": 5,
      "outputs": [
        {
          "output_type": "stream",
          "text": [
            "Train: (8000, 8000) | Test: (1000, 1000) | Val: (1000),(1000)\n"
          ],
          "name": "stdout"
        }
      ]
    },
    {
      "cell_type": "code",
      "metadata": {
        "id": "SCXL4D1WMimA",
        "colab": {
          "base_uri": "https://localhost:8080/"
        },
        "outputId": "6ebd40b7-e1b0-4c76-823a-949f4902fa86"
      },
      "source": [
        "ldict = {key: 0 for key in np.unique(y_train)}\n",
        "for item in y_train:\n",
        "  ldict[item] += 1\n",
        "\n",
        "#creates a label mapping\n",
        "labels = list(set(np.unique(y_train)).union(np.unique(y_test)))\n",
        "labels = dict([(image_label.lower().replace(\" \", \"_\"), index) for index, image_label in enumerate(labels)])\n",
        "print(labels)"
      ],
      "execution_count": 6,
      "outputs": [
        {
          "output_type": "stream",
          "text": [
            "{'beef_tartare': 0, 'breakfast_burrito': 1, 'bread_pudding': 2, 'apple_pie': 3, 'beet_salad': 4, 'beignets': 5, 'beef_carpaccio': 6, 'baby_back_ribs': 7, 'bibimbap': 8, 'baklava': 9}\n"
          ],
          "name": "stdout"
        }
      ]
    },
    {
      "cell_type": "code",
      "metadata": {
        "id": "bcnmwtZsTk51"
      },
      "source": [
        "from keras.utils.np_utils import to_categorical   \n",
        "\n",
        "#one hot encoded label values\n",
        "categorical_labels = to_categorical(np.arange(len(labels)), num_classes=len(labels))\n",
        "categorical_labels\n",
        "\n",
        "y_train2 = []\n",
        "y_test2 = []\n",
        "y_val2 = []\n",
        "for i in range(len(y_train)):\n",
        "  label_index = labels[y_train[i]]\n",
        "  y_train2.append(categorical_labels[label_index])\n",
        "  \n",
        "for i in range(len(y_test)):\n",
        "  label_index = labels[y_test[i]]\n",
        "  y_test2.append(categorical_labels[label_index])\n",
        "  \n",
        "for i in range(len(y_val)):\n",
        "  label_index = labels[y_val[i]]\n",
        "  y_val2.append(categorical_labels[label_index])"
      ],
      "execution_count": 7,
      "outputs": []
    },
    {
      "cell_type": "markdown",
      "metadata": {
        "id": "MRz7b5LsaHaF"
      },
      "source": [
        "#ImageDataGenerator"
      ]
    },
    {
      "cell_type": "code",
      "metadata": {
        "id": "FVxQ7451aBSf"
      },
      "source": [
        "import tf.keras.preprocessing.image.ImageDataGenerator\n",
        "train_data_dir = datadir + \"images_train\"\n",
        "\n",
        "train_datagen = ImageDataGenerator(rescale=1./255,\n",
        "    shear_range=0.2,\n",
        "    zoom_range=0.2,\n",
        "    horizontal_flip=True,\n",
        "    validation_split=0.2) # set validation split\n",
        "\n",
        "train_generator = train_datagen.flow_from_directory(\n",
        "    train_data_dir,\n",
        "    target_size=(128, 128),\n",
        "    batch_size=batch_size,\n",
        "    class_mode='binary',\n",
        "    subset='training') # set as training data\n",
        "\n",
        "validation_generator = train_datagen.flow_from_directory(\n",
        "    train_data_dir, # same directory as training data\n",
        "    target_size=(128, 128),\n",
        "    batch_size=batch_size,\n",
        "    class_mode='binary',\n",
        "    subset='validation') # set as validation data\n",
        "\n",
        "model.fit_generator(\n",
        "    train_generator,\n",
        "    steps_per_epoch = train_generator.samples // batch_size,\n",
        "    validation_data = validation_generator, \n",
        "    validation_steps = validation_generator.samples // batch_size,\n",
        "    epochs = nb_epochs)"
      ],
      "execution_count": null,
      "outputs": []
    },
    {
      "cell_type": "markdown",
      "metadata": {
        "id": "wvJx9jHau7oq"
      },
      "source": [
        "# Build model "
      ]
    },
    {
      "cell_type": "code",
      "metadata": {
        "id": "O_XZ1r4YzkIM",
        "colab": {
          "base_uri": "https://localhost:8080/"
        },
        "outputId": "82733eac-da1c-4637-e072-2d3bc32869a0"
      },
      "source": [
        "import tensorflow as tf\n",
        "tf.keras.backend.clear_session()\n",
        "\n",
        "cnn = tf.keras.models.Sequential()\n",
        "cnn.add(tf.keras.layers.Conv2D(filters=32, kernel_size=(5,5), activation='relu', input_shape=[128, 128, 3]))\n",
        "cnn.add(tf.keras.layers.Conv2D(filters=32, kernel_size=(5,5), activation='relu'))\n",
        "cnn.add(tf.keras.layers.MaxPool2D(pool_size=2, strides=2))\n",
        "cnn.add(tf.keras.layers.Conv2D(filters=64, kernel_size=(3,3), activation='relu'))\n",
        "cnn.add(tf.keras.layers.Conv2D(filters=64, kernel_size=(3,3), activation='relu'))\n",
        "cnn.add(tf.keras.layers.MaxPool2D(pool_size=2, strides=2))\n",
        "cnn.add(tf.keras.layers.Conv2D(filters=128, kernel_size=(3,3), activation='relu'))\n",
        "cnn.add(tf.keras.layers.Conv2D(filters=128, kernel_size=(3,3), activation='relu'))\n",
        "cnn.add(tf.keras.layers.MaxPool2D(pool_size=2, strides=2))\n",
        "cnn.add(tf.keras.layers.Flatten())\n",
        "cnn.add(tf.keras.layers.Dense(128, activation='relu'))\n",
        "cnn.add(tf.keras.layers.Dense(len(labels), activation='softmax'))\n",
        "\n",
        "cnn.summary()\n",
        "cnn.compile(optimizer='adam', loss=\"categorical_crossentropy\", metrics=[\"accuracy\"])"
      ],
      "execution_count": 8,
      "outputs": [
        {
          "output_type": "stream",
          "text": [
            "Model: \"sequential\"\n",
            "_________________________________________________________________\n",
            "Layer (type)                 Output Shape              Param #   \n",
            "=================================================================\n",
            "conv2d (Conv2D)              (None, 124, 124, 32)      2432      \n",
            "_________________________________________________________________\n",
            "conv2d_1 (Conv2D)            (None, 120, 120, 32)      25632     \n",
            "_________________________________________________________________\n",
            "max_pooling2d (MaxPooling2D) (None, 60, 60, 32)        0         \n",
            "_________________________________________________________________\n",
            "conv2d_2 (Conv2D)            (None, 58, 58, 64)        18496     \n",
            "_________________________________________________________________\n",
            "conv2d_3 (Conv2D)            (None, 56, 56, 64)        36928     \n",
            "_________________________________________________________________\n",
            "max_pooling2d_1 (MaxPooling2 (None, 28, 28, 64)        0         \n",
            "_________________________________________________________________\n",
            "conv2d_4 (Conv2D)            (None, 26, 26, 128)       73856     \n",
            "_________________________________________________________________\n",
            "conv2d_5 (Conv2D)            (None, 24, 24, 128)       147584    \n",
            "_________________________________________________________________\n",
            "max_pooling2d_2 (MaxPooling2 (None, 12, 12, 128)       0         \n",
            "_________________________________________________________________\n",
            "flatten (Flatten)            (None, 18432)             0         \n",
            "_________________________________________________________________\n",
            "dense (Dense)                (None, 128)               2359424   \n",
            "_________________________________________________________________\n",
            "dense_1 (Dense)              (None, 10)                1290      \n",
            "=================================================================\n",
            "Total params: 2,665,642\n",
            "Trainable params: 2,665,642\n",
            "Non-trainable params: 0\n",
            "_________________________________________________________________\n"
          ],
          "name": "stdout"
        }
      ]
    },
    {
      "cell_type": "code",
      "metadata": {
        "colab": {
          "base_uri": "https://localhost:8080/"
        },
        "id": "Q3yLNyPkTQ9F",
        "outputId": "6bbd4072-8e44-4389-9fc2-b582e9b736ad"
      },
      "source": [
        "# finally train the cnn\n",
        "history  = cnn.fit(x=x_train, y=np.array(y_train2), validation_data=(x_val, np.array(y_val2)), batch_size=32, epochs=20,  verbose=True)"
      ],
      "execution_count": 9,
      "outputs": [
        {
          "output_type": "stream",
          "text": [
            "Epoch 1/20\n",
            "250/250 [==============================] - 43s 45ms/step - loss: 2.1446 - accuracy: 0.2155 - val_loss: 2.0201 - val_accuracy: 0.2870\n",
            "Epoch 2/20\n",
            "250/250 [==============================] - 11s 44ms/step - loss: 1.9221 - accuracy: 0.3133 - val_loss: 1.8757 - val_accuracy: 0.3450\n",
            "Epoch 3/20\n",
            "250/250 [==============================] - 11s 44ms/step - loss: 1.7766 - accuracy: 0.3692 - val_loss: 1.8021 - val_accuracy: 0.3650\n",
            "Epoch 4/20\n",
            "250/250 [==============================] - 11s 44ms/step - loss: 1.6377 - accuracy: 0.4281 - val_loss: 1.7474 - val_accuracy: 0.3980\n",
            "Epoch 5/20\n",
            "250/250 [==============================] - 11s 44ms/step - loss: 1.4871 - accuracy: 0.4793 - val_loss: 1.7322 - val_accuracy: 0.4080\n",
            "Epoch 6/20\n",
            "250/250 [==============================] - 11s 44ms/step - loss: 1.3292 - accuracy: 0.5353 - val_loss: 1.6872 - val_accuracy: 0.4320\n",
            "Epoch 7/20\n",
            "250/250 [==============================] - 11s 44ms/step - loss: 1.1294 - accuracy: 0.6024 - val_loss: 1.8609 - val_accuracy: 0.3990\n",
            "Epoch 8/20\n",
            "250/250 [==============================] - 11s 44ms/step - loss: 0.9131 - accuracy: 0.6816 - val_loss: 1.9954 - val_accuracy: 0.4180\n",
            "Epoch 9/20\n",
            "250/250 [==============================] - 11s 45ms/step - loss: 0.7122 - accuracy: 0.7511 - val_loss: 2.7385 - val_accuracy: 0.3730\n",
            "Epoch 10/20\n",
            "250/250 [==============================] - 11s 45ms/step - loss: 0.5516 - accuracy: 0.8066 - val_loss: 2.8990 - val_accuracy: 0.3920\n",
            "Epoch 11/20\n",
            "250/250 [==============================] - 11s 44ms/step - loss: 0.4274 - accuracy: 0.8515 - val_loss: 3.5563 - val_accuracy: 0.3710\n",
            "Epoch 12/20\n",
            "250/250 [==============================] - 11s 44ms/step - loss: 0.3072 - accuracy: 0.8954 - val_loss: 4.0237 - val_accuracy: 0.3320\n",
            "Epoch 13/20\n",
            "250/250 [==============================] - 11s 44ms/step - loss: 0.2280 - accuracy: 0.9244 - val_loss: 4.8330 - val_accuracy: 0.3560\n",
            "Epoch 14/20\n",
            "250/250 [==============================] - 11s 44ms/step - loss: 0.2280 - accuracy: 0.9273 - val_loss: 5.2669 - val_accuracy: 0.3630\n",
            "Epoch 15/20\n",
            "250/250 [==============================] - 11s 44ms/step - loss: 0.1696 - accuracy: 0.9440 - val_loss: 4.9680 - val_accuracy: 0.3610\n",
            "Epoch 16/20\n",
            "250/250 [==============================] - 11s 44ms/step - loss: 0.1799 - accuracy: 0.9464 - val_loss: 5.4850 - val_accuracy: 0.3500\n",
            "Epoch 17/20\n",
            "250/250 [==============================] - 11s 44ms/step - loss: 0.1221 - accuracy: 0.9611 - val_loss: 5.9888 - val_accuracy: 0.3620\n",
            "Epoch 18/20\n",
            "250/250 [==============================] - 11s 44ms/step - loss: 0.1271 - accuracy: 0.9614 - val_loss: 6.1114 - val_accuracy: 0.3500\n",
            "Epoch 19/20\n",
            "250/250 [==============================] - 11s 44ms/step - loss: 0.1202 - accuracy: 0.9630 - val_loss: 5.9655 - val_accuracy: 0.3680\n",
            "Epoch 20/20\n",
            "250/250 [==============================] - 11s 44ms/step - loss: 0.0679 - accuracy: 0.9783 - val_loss: 6.9914 - val_accuracy: 0.3660\n"
          ],
          "name": "stdout"
        }
      ]
    },
    {
      "cell_type": "markdown",
      "metadata": {
        "id": "Dyhkrl-xvBQo"
      },
      "source": [
        "# Evaluate model"
      ]
    },
    {
      "cell_type": "code",
      "metadata": {
        "id": "HUb_Hz3xvEhp",
        "colab": {
          "base_uri": "https://localhost:8080/",
          "height": 295
        },
        "outputId": "e9fac03e-1c50-4022-b2c2-8361cd636116"
      },
      "source": [
        "import matplotlib.pyplot as plt\n",
        "plt.plot(history.history['accuracy'])\n",
        "plt.plot(history.history['val_accuracy'])\n",
        "plt.xlabel('epoch')\n",
        "plt.ylabel('accuracy')\n",
        "plt.title('accuracy over time')\n",
        "plt.legend(['train','val'])\n",
        "plt.show()"
      ],
      "execution_count": 10,
      "outputs": [
        {
          "output_type": "display_data",
          "data": {
            "image/png": "[encoded data removed]",
            "text/plain": [
              "<Figure size 432x288 with 1 Axes>"
            ]
          },
          "metadata": {
            "tags": [],
            "needs_background": "light"
          }
        }
      ]
    }
  ]
}
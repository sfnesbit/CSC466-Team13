{
  "nbformat": 4,
  "nbformat_minor": 0,
  "metadata": {
    "colab": {
      "name": "CSC 466 Project.ipynb",
      "provenance": [],
      "collapsed_sections": [],
      "include_colab_link": true
    },
    "kernelspec": {
      "name": "python3",
      "display_name": "Python 3"
    },
    "language_info": {
      "name": "python"
    }
  },
  "cells": [
    {
      "cell_type": "markdown",
      "metadata": {
        "id": "view-in-github",
        "colab_type": "text"
      },
      "source": [
        "<a href=\"https://colab.research.google.com/github/sfnesbit/CSC466-Team13/blob/main/CSC_466_Project.ipynb\" target=\"_parent\"><img src=\"https://colab.research.google.com/assets/colab-badge.svg\" alt=\"Open In Colab\"/></a>"
      ]
    },
    {
      "cell_type": "markdown",
      "metadata": {
        "id": "yB7RM2Et89Qc"
      },
      "source": [
        "# CSC 466 Team 13 Food Image Classification\n",
        "Ty Farris | Marine Cossoul | Sean Nesbit"
      ]
    },
    {
      "cell_type": "markdown",
      "metadata": {
        "id": "yXbAyVCU8o-K"
      },
      "source": [
        "## Mount drive\n",
        "*You may need to visit CSC466 folder, and 'Add Shortcut to Drive' or 'Move To > My Drive\"*"
      ]
    },
    {
      "cell_type": "code",
      "metadata": {
        "colab": {
          "base_uri": "https://localhost:8080/"
        },
        "id": "QnsPwlnc6YNK",
        "outputId": "6824d20d-b9cc-4588-9979-4cb5cb76adde"
      },
      "source": [
        "from google.colab import drive\n",
        "drive.mount('/content/drive')"
      ],
      "execution_count": null,
      "outputs": [
        {
          "output_type": "stream",
          "text": [
            "Mounted at /content/drive\n"
          ],
          "name": "stdout"
        }
      ]
    },
    {
      "cell_type": "code",
      "metadata": {
        "id": "SIbEf0f5m9ds"
      },
      "source": [
        "!ls drive/MyDrive/CSC466/data\n",
        "!unzip drive/MyDrive/CSC466/data/food.zip -d drive/MyDrive/CSC466/dataset"
      ],
      "execution_count": null,
      "outputs": []
    },
    {
      "cell_type": "markdown",
      "metadata": {
        "id": "ZvIAyQZO3S9w"
      },
      "source": [
        "## Load data from shared drive and unzip the data into a pandas dataframe"
      ]
    },
    {
      "cell_type": "code",
      "metadata": {
        "id": "V2em31eC25xr"
      },
      "source": [
        "import pandas as pd\n",
        "import os\n"
      ],
      "execution_count": null,
      "outputs": []
    }
  ]
}
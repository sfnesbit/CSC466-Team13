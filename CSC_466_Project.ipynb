{
  "nbformat": 4,
  "nbformat_minor": 0,
  "metadata": {
    "colab": {
      "name": "CSC 466 Project.ipynb",
      "provenance": [],
      "collapsed_sections": [],
      "include_colab_link": true
    },
    "kernelspec": {
      "name": "python3",
      "display_name": "Python 3"
    },
    "language_info": {
      "name": "python"
    },
    "accelerator": "GPU"
  },
  "cells": [
    {
      "cell_type": "markdown",
      "metadata": {
        "id": "view-in-github",
        "colab_type": "text"
      },
      "source": [
        "<a href=\"https://colab.research.google.com/github/sfnesbit/CSC466-Team13/blob/main/CSC_466_Project.ipynb\" target=\"_parent\"><img src=\"https://colab.research.google.com/assets/colab-badge.svg\" alt=\"Open In Colab\"/></a>"
      ]
    },
    {
      "cell_type": "markdown",
      "metadata": {
        "id": "yB7RM2Et89Qc"
      },
      "source": [
        "# 466 Team 13 Food Image Classification\n",
        "Ty Farris | Marine Cossoul | Sean Nesbit\n",
        "\n",
        "[Multiclass image classification article](https://towardsdatascience.com/end-to-end-pipeline-for-setting-up-multiclass-image-classification-for-data-scientists-2e051081d41c)\n",
        "\n",
        "[Also](https://medium.com/swlh/convolutional-neural-networks-for-multiclass-image-classification-a-beginners-guide-to-6dbc09fabbd)"
      ]
    },
    {
      "cell_type": "markdown",
      "metadata": {
        "id": "yXbAyVCU8o-K"
      },
      "source": [
        "##  Mount drive\n",
        "*You may need to visit CSC466 folder, and 'Add Shortcut to Drive' or 'Move To > My Drive\"*"
      ]
    },
    {
      "cell_type": "code",
      "metadata": {
        "colab": {
          "base_uri": "https://localhost:8080/"
        },
        "id": "QnsPwlnc6YNK",
        "outputId": "60031573-0570-4393-f084-8e7de9e1c980"
      },
      "source": [
        "from google.colab import drive\n",
        "drive.mount('/content/drive')\n",
        "datadir = \"drive/MyDrive/CSC466/csc466_data/\""
      ],
      "execution_count": 2,
      "outputs": [
        {
          "output_type": "stream",
          "text": [
            "Mounted at /content/drive\n"
          ],
          "name": "stdout"
        }
      ]
    },
    {
      "cell_type": "code",
      "metadata": {
        "id": "SIbEf0f5m9ds",
        "colab": {
          "base_uri": "https://localhost:8080/"
        },
        "outputId": "a2918bde-ea8f-47f3-e6b0-130f2868f845"
      },
      "source": [
        "!ls drive/MyDrive/CSC466/"
      ],
      "execution_count": 3,
      "outputs": [
        {
          "output_type": "stream",
          "text": [
            " csc466_data\n",
            "'CSC 466 Project.ipynb'\n",
            "'CSC 466 Team 13 Project Pitch.gdoc'\n",
            " food.zip\n",
            "'KDD Project Proposal - Warmup Group 13.gdoc'\n"
          ],
          "name": "stdout"
        }
      ]
    },
    {
      "cell_type": "markdown",
      "metadata": {
        "id": "ciV2vsVCWZjP"
      },
      "source": [
        "#  Create train and test datasets"
      ]
    },
    {
      "cell_type": "code",
      "metadata": {
        "id": "M_8Uq8djPzKN",
        "colab": {
          "base_uri": "https://localhost:8080/"
        },
        "outputId": "63be379a-5f8f-4909-bcd0-e93ea6b039cf"
      },
      "source": [
        "import os\n",
        "import cv2 as cv\n",
        "from matplotlib import pyplot as plt\n",
        "\n",
        "image_train_path = datadir+\"images_train\"\n",
        "x_train = []\n",
        "y_train = []\n",
        "\n",
        "count = 0\n",
        "for dir in os.listdir(image_train_path):\n",
        "  print(\"directory: {0}\".format(count))\n",
        "  count = count + 1\n",
        "\n",
        "  dir_path = image_train_path + \"/\" + dir\n",
        "  for file in os.listdir(dir_path):\n",
        "    #read in the image\n",
        "    imagePath = image_train_path + \"/\" + dir + \"/\" + file\n",
        "    image = cv.imread(imagePath)\n",
        "\n",
        "    #resize the image to 128x128\n",
        "    image = cv.resize(image, (128, 128)) \n",
        "\n",
        "    #add the image and corresponding label to x_train and y_train\n",
        "    x_train.append(image)\n",
        "    y_train.append(dir)\n",
        "    \n",
        "print()\n",
        "\n",
        "#save results to a file\n",
        "x_train = np.array(x_train, dtype=\"float\") / 255.0\n",
        "np.save(image_train_path + \"/x_train.npy\", x_train)\n",
        "\n",
        "y_train = np.array(y_train)\n",
        "np.save(image_train_path + \"/y_train.npy\", y_train)"
      ],
      "execution_count": 8,
      "outputs": [
        {
          "output_type": "stream",
          "text": [
            "directory: 0\n",
            "\n"
          ],
          "name": "stdout"
        }
      ]
    },
    {
      "cell_type": "code",
      "metadata": {
        "id": "KAF24ijMV9fO"
      },
      "source": [
        "import os\n",
        "import cv2 as cv\n",
        "from matplotlib import pyplot as plt\n",
        "\n",
        "image_test_path = datadir+\"images_test\"\n",
        "x_test = []\n",
        "y_test = []\n",
        "\n",
        "count = 0\n",
        "for dir in os.listdir(image_test_path):\n",
        "  print(\"directory: {0}\".format(count))\n",
        "  count = count + 1\n",
        "  \n",
        "  dir_path = image_test_path + \"/\" + dir\n",
        "  for file in os.listdir(dir_path):\n",
        "    #read in the image\n",
        "    imagePath = image_test_path + \"/\" + dir + \"/\" + file\n",
        "    image = cv.imread(imagePath)\n",
        "\n",
        "    #resize the image to 128x128\n",
        "    image = cv.resize(image, (128, 128)) \n",
        "\n",
        "    #add the image and corresponding label to x_test and y_test\n",
        "    x_test.append(image)\n",
        "    y_test.append(dir)\n",
        "\n",
        "#save results to a file\n",
        "x_test = np.array(x_test, dtype=\"float\") / 255.0\n",
        "np.save(image_test_path + \"/x_test.npy\", x_test)\n",
        "\n",
        "y_test = np.array(y_test)\n",
        "np.save(image_test_path + \"/y_test.npy\", y_test)"
      ],
      "execution_count": null,
      "outputs": []
    },
    {
      "cell_type": "markdown",
      "metadata": {
        "id": "wvJx9jHau7oq"
      },
      "source": [
        "# Build model "
      ]
    },
    {
      "cell_type": "code",
      "metadata": {
        "id": "O_XZ1r4YzkIM"
      },
      "source": [
        "\n",
        "cnn = tf.keras.models.Sequential()\n",
        "cnn.add(tf.keras.layers.Conv2D(filters=48, kernel_size=3, activation='relu', input_shape=[64, 64, 3]))\n",
        "cnn.add(tf.keras.layers.MaxPool2D(pool_size=2, strides=2))\n",
        "cnn.add(tf.keras.layers.Conv2D(filters=48, kernel_size=3, activation='relu'))\n",
        "cnn.add(tf.keras.layers.MaxPool2D(pool_size=2, strides=2))\n",
        "cnn.add(tf.keras.layers.Conv2D(filters=32, kernel_size=3, activation='relu'))\n",
        "cnn.add(tf.keras.layers.MaxPool2D(pool_size=2, strides=2))\n",
        "cnn.add(tf.keras.layers.Flatten())\n",
        "cnn.add(tf.keras.layers.Dense(128, activation='relu'))\n",
        "cnn.add(tf.keras.layers.Dense(101, activation='softmax'))\n",
        "\n",
        "# finally compile and train the cnn\n",
        "cnn.compile(optimizer=\"adam\", loss=\"categorical_crossentropy\", metrics=[\"accuracy\"])\n",
        "cnn.fit(x=train_generator, validation_data=test_generator, batch_size=32, epochs=30, verbose=True)\n",
        "print(cnn.summary())"
      ],
      "execution_count": null,
      "outputs": []
    },
    {
      "cell_type": "code",
      "metadata": {
        "id": "q20KatQVvASm"
      },
      "source": [
        "from tensorflow.keras import layers\n",
        "\n",
        "lr = 3e-4\n",
        "batch_size = 32\n",
        "epochs = 200\n",
        "\n",
        "model = tf.keras.Sequential(\n",
        "    [\n",
        "     layers.Conv2D(32,3,activation='relu',padding='same',name='conv1a', input_shape=[64,64,3]),\n",
        "     layers.Conv2D(32,3,activation='relu',padding='same',name='conv1b'),\n",
        "     layers.MaxPooling2D(2,2),\n",
        "     layers.Conv2D(64,3,activation='relu',padding='same',name='conv2a'),\n",
        "     layers.Conv2D(64,3,activation='relu',padding='same',name='conv2b'),\n",
        "     layers.MaxPooling2D(2,2),\n",
        "     layers.Conv2D(128,3,activation='relu',padding='same',name='conv3a'),\n",
        "     layers.Conv2D(128,3,activation='relu',padding='same',name='conv3b'),\n",
        "     layers.MaxPooling2D(2,2),\n",
        "     layers.Flatten(),\n",
        "     layers.Dense(1024,activation='relu',name='dense1'),\n",
        "     layers.Dense(21,activation='softmax',name='z')\n",
        "    ]\n",
        ")\n",
        "opt = tf.keras.optimizers.Adam(lr=lr)\n",
        "model.compile(loss='sparse_categorical_crossentropy',optimizer=opt,metrics='accuracy')\n",
        "history = model.fit(x=train_generator,validation_data=test_generator,batch_size=batch_size,epochs=epochs,verbose=True)\n",
        "\n"
      ],
      "execution_count": null,
      "outputs": []
    },
    {
      "cell_type": "code",
      "metadata": {
        "id": "ZiaoBL97ppaN"
      },
      "source": [
        "plt.plot(history.history['loss'])\n",
        "plt.plot(history.history['val_loss'])\n",
        "plt.xlabel('iteration')\n",
        "plt.ylabel('loss')\n",
        "plt.title('Loss over time')\n",
        "plt.legend(['train','val'])\n",
        "plt.show()"
      ],
      "execution_count": null,
      "outputs": []
    },
    {
      "cell_type": "markdown",
      "metadata": {
        "id": "Dyhkrl-xvBQo"
      },
      "source": [
        "# Evaluate model"
      ]
    },
    {
      "cell_type": "code",
      "metadata": {
        "id": "HUb_Hz3xvEhp"
      },
      "source": [
        ""
      ],
      "execution_count": null,
      "outputs": []
    }
  ]
}